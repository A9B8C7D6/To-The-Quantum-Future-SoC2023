{
 "cells": [
  {
   "attachments": {},
   "cell_type": "markdown",
   "metadata": {},
   "source": [
    "# Quantum Teleportation\n",
    "\n",
    "## Teleportation of pure states\n",
    "\n",
    "Let's start this off with the standard protocol that you all studied, for Teleportation, which in some sense is kind of the inverse of Super Dense Coding, sending two bits of information in order to obtain the state of the other person's qubit (which is now their own qubit, by teleportation)\n",
    "\n",
    "Explain the protocol in your own words and also code up the circuit for the same (measurements can be kept at the end as well, even though that's not what's happening in the protocol)"
   ]
  },
  {
   "cell_type": "code",
   "execution_count": null,
   "metadata": {},
   "outputs": [],
   "source": [
    "# Circuit for teleporting a pure state"
   ]
  },
  {
   "attachments": {},
   "cell_type": "markdown",
   "metadata": {},
   "source": [
    "## Mixed States\n",
    "\n",
    "Let's take this further by considering the problem of teleporting a mixed state from one person to another. \n",
    "\n",
    "It should be straightforward to see that you can't directly use the Quantum Teleportation Protocol, since it is assumed that the state to be teleported has a state $$ \\alpha|0\\rangle + \\beta|1\\rangle $$ which is a pure state vector.\n",
    "\n",
    "Starting with a concrete example, let's look at transporting the qubit with density matrix $$ \\frac{2}{3}|0\\rangle \\langle 0| + \\frac{1}{3}|1\\rangle \\langle 1| $$ \n",
    "\n",
    "Can you design a protocol that uses Quantum Teleportation as a component to transport this mixed state from one person to another? Feel free to use ancilla qubits (could be qubits that are prepared in the states $|0\\rangle$ or $|1\\rangle$)\n",
    "\n",
    "Hint : Maybe Schmidt Decompositions and Purifications would come in handy\n",
    "\n",
    "Optional : You could code up the circuit in Qiskit as well"
   ]
  }
 ],
 "metadata": {
  "language_info": {
   "name": "python"
  },
  "orig_nbformat": 4
 },
 "nbformat": 4,
 "nbformat_minor": 2
}
